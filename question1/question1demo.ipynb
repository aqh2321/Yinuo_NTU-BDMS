{
 "cells": [
  {
   "cell_type": "code",
   "execution_count": 1,
   "metadata": {},
   "outputs": [],
   "source": [
    "from collections import Counter\n",
    "import csv\n",
    "# used this function to cound the number of directions in tuples\n",
    "#import this library to write the output into files"
   ]
  },
  {
   "cell_type": "code",
   "execution_count": 2,
   "metadata": {},
   "outputs": [
    {
     "data": {
      "text/plain": [
       "16.0"
      ]
     },
     "execution_count": 2,
     "metadata": {},
     "output_type": "execute_result"
    }
   ],
   "source": [
    "#tup = (row, column, direction, confirmed sum)\n",
    "#calculate the current summation for the coordinant stored as tuple\n",
    "def total_sum(tup):\n",
    "    summation = (1+tup[0])*tup[0]/2 + tup[3]+1*(tup[1]-1)\n",
    "    return summation\n",
    "\n",
    "total_sum((4,3,'U',4))"
   ]
  },
  {
   "cell_type": "code",
   "execution_count": 3,
   "metadata": {},
   "outputs": [
    {
     "name": "stdout",
     "output_type": "stream",
     "text": [
      "[(9, 8, 'L', 9), (9, 8, 'U', 9), (8, 8, 'U', 18), (7, 8, 'U', 26), (6, 8, 'U', 33), (5, 7, 'L', 44)]\n"
     ]
    }
   ],
   "source": [
    "#the length of operations should be \"row_num+col_num-2\"\n",
    "#I started the walk of paths from the left bottom corner, and trace back towards the right up corner\n",
    "#the default settings of the paths will be:\n",
    "#from the coordinant(#row, #column), move up till the first row, then move left till the first column\n",
    "#in the function \"walk\", it started to simulate the described selection of paths,\n",
    "#and record the confirmed operations\n",
    "#confirmed_sum is used as a stored variable for dynamic programming, since funcion \"walk\"\n",
    "#need to calculate the summations of operations for comparison\n",
    "#recording the confirmed_sum and confirmed operations meaning the steps are confirmed and\n",
    "#are no longer needed to be calculated again\n",
    "#in the end, the funcion \"walk\" updated the global variables operation and confirmed_sum, \n",
    "#doesn't return other variables\n",
    "operations = []\n",
    "confirmed_sum = 0\n",
    "def walk(row_num,col_num,desired_num):\n",
    "    global operations\n",
    "    global confirmed_sum\n",
    "    operations = []\n",
    "    confirmed_sum = 0\n",
    "    for i in range(0,row_num+col_num-2):\n",
    "        current_operation = (row_num,col_num,'U',confirmed_sum)\n",
    "        if col_num-1 >0:\n",
    "            #assume move left, add the possible number first\n",
    "            #if move up in the end, minus the current row num, plus the next row num\n",
    "            confirmed_sum += row_num\n",
    "            next_operation = (row_num,col_num-1,'L',confirmed_sum)\n",
    "        s = total_sum(current_operation)\n",
    "        s2 = total_sum(next_operation)\n",
    "        #print(desired_num, s,s2,operations)\n",
    "        if desired_num > s and desired_num < s2:\n",
    "            #then the desired operation would be go upward\n",
    "            operations.append(current_operation)\n",
    "            #largest number in the map\n",
    "            row_num -= 1    \n",
    "        elif desired_num > s and desired_num > s2:\n",
    "            #then the desired operation should go left, looking for larger possible paths    \n",
    "            #i set the function to favor moving left more than moving up in order to find\n",
    "            #the corrent path\n",
    "            operations.append(next_operation)\n",
    "            col_num-=1\n",
    "            current_operation = (row_num,col_num,'U',confirmed_sum)\n",
    "            next_operation = (row_num,col_num-1,'L',confirmed_sum)\n",
    "        elif desired_num < s and desired_num < s2:\n",
    "            #in the case of the desired num is smaller than current operation and next operation\n",
    "            #cannot move leftward anymore\n",
    "            #return back to the current operation, and move upward (rownum-1)\n",
    "            operations.append(current_operation)\n",
    "            confirmed_sum -= row_num\n",
    "            row_num-=1\n",
    "            current_operation = (row_num,col_num,'U',confirmed_sum)\n",
    "            confirmed_sum += row_num\n",
    "            next_operation = (row_num,col_num-1,'L',confirmed_sum)\n",
    "        elif desired_num == s:\n",
    "            operations.append(current_operation)\n",
    "            break\n",
    "        elif desired_num == s2:\n",
    "            operations.append(next_operation)\n",
    "            break\n",
    "        \n",
    "#the \"absence\" of other items indicate default sate for the rest of the operations\n",
    "walk(9,9,65)\n",
    "print(operations)"
   ]
  },
  {
   "cell_type": "code",
   "execution_count": 4,
   "metadata": {},
   "outputs": [
    {
     "data": {
      "text/plain": [
       "'RRRRRRDDDDRDDDDR'"
      ]
     },
     "execution_count": 4,
     "metadata": {},
     "output_type": "execute_result"
    }
   ],
   "source": [
    "#this function is a reconstruction of the operations after the steps are confirmed\n",
    "def retrieve(row_num,col_num):\n",
    "    global operations\n",
    "    ndefault = len(operations)\n",
    "    count =  Counter(elem[2] for elem in operations)\n",
    "    path = 'R'* (col_num-1-count['L'])+'D'* (row_num-1-count['U'])\n",
    "    for i in range(ndefault,0,-1):\n",
    "        if operations[i-1][2] == 'L':\n",
    "            path += 'R'\n",
    "        else:\n",
    "            path += 'D'\n",
    "    return path\n",
    "retrieve(9,9)\n",
    "    "
   ]
  },
  {
   "cell_type": "code",
   "execution_count": 5,
   "metadata": {},
   "outputs": [],
   "source": [
    "want_num = [65,72,90,110]\n",
    "path = []\n",
    "for item in want_num:\n",
    "    walk(9,9,item)\n",
    "    path.append(retrieve(9,9))"
   ]
  },
  {
   "cell_type": "code",
   "execution_count": 6,
   "metadata": {},
   "outputs": [],
   "source": [
    "with open('text.txt', 'w') as f:\n",
    "    writer = csv.writer(f, delimiter='\\t',lineterminator = '\\n')\n",
    "    writer.writerows(zip(want_num, path))\n",
    "    writer.writerow('')\n",
    "    writer.writerows(zip(want_num, path))"
   ]
  },
  {
   "cell_type": "code",
   "execution_count": null,
   "metadata": {},
   "outputs": [],
   "source": []
  }
 ],
 "metadata": {
  "kernelspec": {
   "display_name": "Python 3",
   "language": "python",
   "name": "python3"
  },
  "language_info": {
   "codemirror_mode": {
    "name": "ipython",
    "version": 3
   },
   "file_extension": ".py",
   "mimetype": "text/x-python",
   "name": "python",
   "nbconvert_exporter": "python",
   "pygments_lexer": "ipython3",
   "version": "3.7.4"
  }
 },
 "nbformat": 4,
 "nbformat_minor": 2
}
