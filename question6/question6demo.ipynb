{
 "cells": [
  {
   "cell_type": "code",
   "execution_count": 38,
   "metadata": {},
   "outputs": [],
   "source": [
    "#make coordinant information understandable for the polygon\n",
    "#the tuple value will be converted into x and y\n",
    "#tuple[0] will be x, tuple[1] will be y for one specific point\n",
    "from shapely.geometry import Point\n",
    "#construct polygon, the output will contain the attribute \"contains\"\n",
    "#to check if points are contained within the polygon\n",
    "from shapely.geometry.polygon import Polygon\n",
    "#use LinearRing to check if points was at the edge of polygon\n",
    "from shapely.geometry.polygon import LinearRing\n",
    "#handel input dataset\n",
    "import pandas as pd\n",
    "#export datasets into txt\n",
    "import numpy as np"
   ]
  },
  {
   "cell_type": "code",
   "execution_count": 39,
   "metadata": {},
   "outputs": [
    {
     "name": "stdout",
     "output_type": "stream",
     "text": [
      "False\n"
     ]
    }
   ],
   "source": [
    "#test with small polygon first\n",
    "point = Point(7,5)\n",
    "polygon_points = [(1,1),(1,5),(10,5),(10,1)]\n",
    "polygon = Polygon(polygon_points)\n",
    "print(polygon.contains(point))"
   ]
  },
  {
   "cell_type": "code",
   "execution_count": 40,
   "metadata": {},
   "outputs": [
    {
     "name": "stdout",
     "output_type": "stream",
     "text": [
      "True\n"
     ]
    }
   ],
   "source": [
    "line = LineString(polygon_points)\n",
    "print(line.contains(point))"
   ]
  },
  {
   "cell_type": "code",
   "execution_count": 44,
   "metadata": {},
   "outputs": [],
   "source": [
    "#construct the multi-edge polygon\n",
    "#the polygon has an non-zero-area,and this feature is used to test if a point is within a polygon\n",
    "df = pd.read_csv('input_question_6_polygon',delim_whitespace=True,header = None)\n",
    "#convert dataframe input into tuples of coordinants\n",
    "polygon_points=list(df.itertuples(index=False, name=None))\n",
    "polygon = Polygon(polygon_points)\n",
    "#the following function stored the edge equations for the polygon\n",
    "#so that we can check if the points are at the edge\n",
    "#didn't use LineStrings function since we need the line bewteen the first and last indices\n",
    "#the lines form a closed ring\n",
    "line = LinearRing(polygon_points)\n",
    "df2 = pd.read_csv('input_question_6_points',delim_whitespace=True,header = None)\n",
    "#convert dataframe input into tuples of coordinants\n",
    "test_points=list(df2.itertuples(index=False, name=None))"
   ]
  },
  {
   "cell_type": "code",
   "execution_count": 45,
   "metadata": {},
   "outputs": [
    {
     "data": {
      "image/svg+xml": [
       "<svg xmlns=\"http://www.w3.org/2000/svg\" xmlns:xlink=\"http://www.w3.org/1999/xlink\" width=\"100.0\" height=\"100.0\" viewBox=\"1.28 2.2800000000000002 19.439999999999998 19.439999999999998\" preserveAspectRatio=\"xMinYMin meet\"><g transform=\"matrix(1,0,0,-1,0,24.0)\"><path fill-rule=\"evenodd\" fill=\"#66cc99\" stroke=\"#555555\" stroke-width=\"0.3888\" opacity=\"0.6\" d=\"M 4.0,3.0 L 2.0,6.0 L 3.0,12.0 L 2.0,17.0 L 5.0,20.0 L 9.0,21.0 L 14.0,19.0 L 20.0,14.0 L 18.0,3.0 L 11.0,7.0 L 4.0,3.0 z\" /></g></svg>"
      ],
      "text/plain": [
       "<shapely.geometry.polygon.Polygon at 0x7f2a05298910>"
      ]
     },
     "execution_count": 45,
     "metadata": {},
     "output_type": "execute_result"
    }
   ],
   "source": [
    "polygon"
   ]
  },
  {
   "cell_type": "code",
   "execution_count": 46,
   "metadata": {},
   "outputs": [
    {
     "data": {
      "image/svg+xml": [
       "<svg xmlns=\"http://www.w3.org/2000/svg\" xmlns:xlink=\"http://www.w3.org/1999/xlink\" width=\"100.0\" height=\"100.0\" viewBox=\"1.28 2.2800000000000002 19.439999999999998 19.439999999999998\" preserveAspectRatio=\"xMinYMin meet\"><g transform=\"matrix(1,0,0,-1,0,24.0)\"><polyline fill=\"none\" stroke=\"#66cc99\" stroke-width=\"0.3888\" points=\"4.0,3.0 2.0,6.0 3.0,12.0 2.0,17.0 5.0,20.0 9.0,21.0 14.0,19.0 20.0,14.0 18.0,3.0 11.0,7.0 4.0,3.0\" opacity=\"0.8\" /></g></svg>"
      ],
      "text/plain": [
       "<shapely.geometry.polygon.LinearRing at 0x7f2a05298b10>"
      ]
     },
     "execution_count": 46,
     "metadata": {},
     "output_type": "execute_result"
    }
   ],
   "source": [
    "line"
   ]
  },
  {
   "cell_type": "code",
   "execution_count": 47,
   "metadata": {},
   "outputs": [
    {
     "data": {
      "text/plain": [
       "[[7, 11, 'inside'],\n",
       " [10, 14, 'inside'],\n",
       " [11, 4, 'outside'],\n",
       " [12, 21, 'outside'],\n",
       " [16, 3, 'outside'],\n",
       " [16, 10, 'inside'],\n",
       " [17, 4, 'inside'],\n",
       " [18, 7, 'inside'],\n",
       " [18, 17, 'outside'],\n",
       " [20, 7, 'outside']]"
      ]
     },
     "execution_count": 47,
     "metadata": {},
     "output_type": "execute_result"
    }
   ],
   "source": [
    "output_array = []\n",
    "for m,n in test_points:\n",
    "    #make coordinant information understandable for the polygon\n",
    "    #the tuple value will be converted into x and y\n",
    "    #tuple[0] will be x, tuple[1] will be y for one specific point\n",
    "    point = Point(m,n)\n",
    "    #if the points was within the polygon or at the edge\n",
    "    #mark it as inside\n",
    "    if polygon.contains(point) or line.contains(point):\n",
    "        output_array.append([m,n,'inside'])\n",
    "    #otherwise mark as outside\n",
    "    else:\n",
    "        output_array.append([m,n,'outside'])\n",
    "output_array"
   ]
  },
  {
   "cell_type": "code",
   "execution_count": 48,
   "metadata": {},
   "outputs": [],
   "source": [
    "np.savetxt('output_question_6.txt',output_array,fmt='%s')"
   ]
  },
  {
   "cell_type": "code",
   "execution_count": null,
   "metadata": {},
   "outputs": [],
   "source": []
  }
 ],
 "metadata": {
  "kernelspec": {
   "display_name": "Python 3",
   "language": "python",
   "name": "python3"
  },
  "language_info": {
   "codemirror_mode": {
    "name": "ipython",
    "version": 3
   },
   "file_extension": ".py",
   "mimetype": "text/x-python",
   "name": "python",
   "nbconvert_exporter": "python",
   "pygments_lexer": "ipython3",
   "version": "3.7.4"
  }
 },
 "nbformat": 4,
 "nbformat_minor": 2
}
